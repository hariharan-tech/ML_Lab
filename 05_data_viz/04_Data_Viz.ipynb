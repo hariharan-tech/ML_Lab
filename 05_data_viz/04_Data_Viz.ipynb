{
 "cells": [
  {
   "cell_type": "markdown",
   "id": "4de9cea2",
   "metadata": {},
   "source": [
    "### Data Visualization\n",
    "Plot, Stem, Histogram, Scatter, Box/Whisker, Violin, Pie chart, Heat map, Dist plot, Joint plot, Line plot, LM plot, Pair plot, Count plot, Bar plot, Ridgeline plot"
   ]
  },
  {
   "cell_type": "code",
   "execution_count": 3,
   "id": "06ed4e71",
   "metadata": {},
   "outputs": [],
   "source": [
    "# importing required libraries\n",
    "import numpy as np\n",
    "import pandas as pd\n",
    "import matplotlib.pyplot as plt\n",
    "plt.style.use(['science','no-latex'])"
   ]
  },
  {
   "cell_type": "code",
   "execution_count": null,
   "id": "b630f2dc",
   "metadata": {},
   "outputs": [],
   "source": []
  }
 ],
 "metadata": {
  "kernelspec": {
   "display_name": "Python 3 (ipykernel)",
   "language": "python",
   "name": "python3"
  },
  "language_info": {
   "codemirror_mode": {
    "name": "ipython",
    "version": 3
   },
   "file_extension": ".py",
   "mimetype": "text/x-python",
   "name": "python",
   "nbconvert_exporter": "python",
   "pygments_lexer": "ipython3",
   "version": "3.7.6"
  }
 },
 "nbformat": 4,
 "nbformat_minor": 5
}
