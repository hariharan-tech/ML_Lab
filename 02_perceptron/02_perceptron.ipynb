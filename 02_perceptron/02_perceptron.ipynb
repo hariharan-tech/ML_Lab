{
 "cells": [
  {
   "cell_type": "code",
   "execution_count": 1,
   "id": "450576df",
   "metadata": {},
   "outputs": [],
   "source": [
    "import pandas as pd\n",
    "import numpy as np"
   ]
  },
  {
   "cell_type": "code",
   "execution_count": 2,
   "id": "df288e37",
   "metadata": {},
   "outputs": [
    {
     "data": {
      "text/html": [
       "<div>\n",
       "<style scoped>\n",
       "    .dataframe tbody tr th:only-of-type {\n",
       "        vertical-align: middle;\n",
       "    }\n",
       "\n",
       "    .dataframe tbody tr th {\n",
       "        vertical-align: top;\n",
       "    }\n",
       "\n",
       "    .dataframe thead th {\n",
       "        text-align: right;\n",
       "    }\n",
       "</style>\n",
       "<table border=\"1\" class=\"dataframe\">\n",
       "  <thead>\n",
       "    <tr style=\"text-align: right;\">\n",
       "      <th></th>\n",
       "      <th>x1</th>\n",
       "      <th>x2</th>\n",
       "      <th>b</th>\n",
       "      <th>Y</th>\n",
       "    </tr>\n",
       "  </thead>\n",
       "  <tbody>\n",
       "    <tr>\n",
       "      <th>0</th>\n",
       "      <td>1</td>\n",
       "      <td>1</td>\n",
       "      <td>1</td>\n",
       "      <td>1</td>\n",
       "    </tr>\n",
       "    <tr>\n",
       "      <th>1</th>\n",
       "      <td>1</td>\n",
       "      <td>-1</td>\n",
       "      <td>1</td>\n",
       "      <td>-1</td>\n",
       "    </tr>\n",
       "    <tr>\n",
       "      <th>2</th>\n",
       "      <td>-1</td>\n",
       "      <td>1</td>\n",
       "      <td>1</td>\n",
       "      <td>-1</td>\n",
       "    </tr>\n",
       "    <tr>\n",
       "      <th>3</th>\n",
       "      <td>-1</td>\n",
       "      <td>-1</td>\n",
       "      <td>1</td>\n",
       "      <td>-1</td>\n",
       "    </tr>\n",
       "  </tbody>\n",
       "</table>\n",
       "</div>"
      ],
      "text/plain": [
       "   x1  x2  b  Y\n",
       "0   1   1  1  1\n",
       "1   1  -1  1 -1\n",
       "2  -1   1  1 -1\n",
       "3  -1  -1  1 -1"
      ]
     },
     "execution_count": 2,
     "metadata": {},
     "output_type": "execute_result"
    }
   ],
   "source": [
    "df = pd.read_csv(\"02_perceptron_input.csv\",delimiter=\",\")\n",
    "df"
   ]
  },
  {
   "cell_type": "code",
   "execution_count": 3,
   "id": "d8c76aa4",
   "metadata": {},
   "outputs": [
    {
     "data": {
      "text/plain": [
       "Index(['x1', 'x2', 'b', 'Y'], dtype='object')"
      ]
     },
     "execution_count": 3,
     "metadata": {},
     "output_type": "execute_result"
    }
   ],
   "source": [
    "df.columns"
   ]
  },
  {
   "cell_type": "code",
   "execution_count": 4,
   "id": "1aa7f187",
   "metadata": {},
   "outputs": [
    {
     "name": "stdout",
     "output_type": "stream",
     "text": [
      "[ 1  1 -1 -1] [ 1 -1  1 -1] [1 1 1 1] [ 1 -1 -1 -1]\n"
     ]
    }
   ],
   "source": [
    "x1 = np.array(df[\"x1\"])\n",
    "x2 = np.array(df[\"x2\"])\n",
    "bias = np.array(df[\"b\"])\n",
    "target = np.array(df[\"Y\"])\n",
    "print(x1,x2,bias,target)"
   ]
  },
  {
   "cell_type": "code",
   "execution_count": 7,
   "id": "d17fa485",
   "metadata": {},
   "outputs": [
    {
     "name": "stdout",
     "output_type": "stream",
     "text": [
      "Epoch: 1\n",
      "[ 1.  1. -1.]\n",
      "Matched output attained!\n"
     ]
    }
   ],
   "source": [
    "alpha = 1 # learning rate\n",
    "epoch = 5 # number of epochs\n",
    "threshold = 0 # sigmoid function threshold\n",
    "w = np.zeros(len(df.columns)-1)\n",
    "# yin = np.zeros(len(df.columns)-1)\n",
    "\n",
    "# neuron activation functions\n",
    "def perceptron_neuron(y):\n",
    "    if y>threshold:\n",
    "        return 1\n",
    "    elif (y>=-threshold and y<=threshold):\n",
    "        return 0\n",
    "    else:\n",
    "        return -1\n",
    "\n",
    "# code\n",
    "flag = False\n",
    "epoch_no = 1\n",
    "while(epoch>0):\n",
    "    for i in range(len(x1)):\n",
    "        ypred = np.dot(w,np.array([x1[i],x2[i],bias[i]]))\n",
    "        # print(ypred,perceptron_neuron(ypred))\n",
    "        # weight updation\n",
    "        yout = perceptron_neuron(ypred)\n",
    "        if target[i]==yout:\n",
    "            flag = True   \n",
    "        else:\n",
    "            w += (alpha*target[i]*np.array([x1[i],x2[i],bias[i]]))\n",
    "#         print(w)\n",
    "    print(f\"Epoch: {epoch_no}\")\n",
    "    print(w)\n",
    "    if(flag):\n",
    "        print(\"Matched output attained!\")\n",
    "        break\n",
    "    epoch-=1"
   ]
  },
  {
   "cell_type": "code",
   "execution_count": null,
   "id": "5d5a84cb",
   "metadata": {},
   "outputs": [],
   "source": []
  }
 ],
 "metadata": {
  "kernelspec": {
   "display_name": "Python 3 (ipykernel)",
   "language": "python",
   "name": "python3"
  },
  "language_info": {
   "codemirror_mode": {
    "name": "ipython",
    "version": 3
   },
   "file_extension": ".py",
   "mimetype": "text/x-python",
   "name": "python",
   "nbconvert_exporter": "python",
   "pygments_lexer": "ipython3",
   "version": "3.7.6"
  }
 },
 "nbformat": 4,
 "nbformat_minor": 5
}
