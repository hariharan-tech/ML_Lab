{
 "cells": [
  {
   "cell_type": "code",
   "execution_count": 6,
   "id": "44d0cc0c",
   "metadata": {},
   "outputs": [],
   "source": [
    "import pandas as pd\n",
    "import numpy as np"
   ]
  },
  {
   "cell_type": "code",
   "execution_count": 10,
   "id": "b7ea483b",
   "metadata": {},
   "outputs": [
    {
     "data": {
      "text/html": [
       "<div>\n",
       "<style scoped>\n",
       "    .dataframe tbody tr th:only-of-type {\n",
       "        vertical-align: middle;\n",
       "    }\n",
       "\n",
       "    .dataframe tbody tr th {\n",
       "        vertical-align: top;\n",
       "    }\n",
       "\n",
       "    .dataframe thead th {\n",
       "        text-align: right;\n",
       "    }\n",
       "</style>\n",
       "<table border=\"1\" class=\"dataframe\">\n",
       "  <thead>\n",
       "    <tr style=\"text-align: right;\">\n",
       "      <th></th>\n",
       "      <th>example</th>\n",
       "      <th>citations</th>\n",
       "      <th>size</th>\n",
       "      <th>inlibrary</th>\n",
       "      <th>price</th>\n",
       "      <th>editions</th>\n",
       "      <th>buy</th>\n",
       "    </tr>\n",
       "  </thead>\n",
       "  <tbody>\n",
       "    <tr>\n",
       "      <th>0</th>\n",
       "      <td>1</td>\n",
       "      <td>some</td>\n",
       "      <td>small</td>\n",
       "      <td>no</td>\n",
       "      <td>affordable</td>\n",
       "      <td>many</td>\n",
       "      <td>no</td>\n",
       "    </tr>\n",
       "    <tr>\n",
       "      <th>1</th>\n",
       "      <td>2</td>\n",
       "      <td>many</td>\n",
       "      <td>big</td>\n",
       "      <td>no</td>\n",
       "      <td>expensive</td>\n",
       "      <td>one</td>\n",
       "      <td>yes</td>\n",
       "    </tr>\n",
       "    <tr>\n",
       "      <th>2</th>\n",
       "      <td>3</td>\n",
       "      <td>some</td>\n",
       "      <td>big</td>\n",
       "      <td>always</td>\n",
       "      <td>expensive</td>\n",
       "      <td>few</td>\n",
       "      <td>no</td>\n",
       "    </tr>\n",
       "    <tr>\n",
       "      <th>3</th>\n",
       "      <td>4</td>\n",
       "      <td>many</td>\n",
       "      <td>medium</td>\n",
       "      <td>no</td>\n",
       "      <td>expensive</td>\n",
       "      <td>many</td>\n",
       "      <td>yes</td>\n",
       "    </tr>\n",
       "    <tr>\n",
       "      <th>4</th>\n",
       "      <td>5</td>\n",
       "      <td>many</td>\n",
       "      <td>small</td>\n",
       "      <td>no</td>\n",
       "      <td>affordable</td>\n",
       "      <td>many</td>\n",
       "      <td>yes</td>\n",
       "    </tr>\n",
       "  </tbody>\n",
       "</table>\n",
       "</div>"
      ],
      "text/plain": [
       "   example citations    size inlibrary       price editions  buy\n",
       "0        1      some   small        no  affordable     many   no\n",
       "1        2      many     big        no   expensive      one  yes\n",
       "2        3      some     big    always   expensive      few   no\n",
       "3        4      many  medium        no   expensive     many  yes\n",
       "4        5      many   small        no  affordable     many  yes"
      ]
     },
     "execution_count": 10,
     "metadata": {},
     "output_type": "execute_result"
    }
   ],
   "source": [
    "df = pd.read_csv(\"03_find_s.csv\",delimiter=\",\")\n",
    "df"
   ]
  },
  {
   "cell_type": "code",
   "execution_count": 13,
   "id": "ada7706b",
   "metadata": {},
   "outputs": [
    {
     "data": {
      "text/plain": [
       "{'example': {1, 2, 3, 4, 5},\n",
       " 'citations': {'many', 'some'},\n",
       " 'size': {'big', 'medium', 'small'},\n",
       " 'inlibrary': {'always', 'no'},\n",
       " 'price': {'affordable', 'expensive'},\n",
       " 'editions': {'few', 'many', 'one'},\n",
       " 'buy': {'no', 'yes'}}"
      ]
     },
     "execution_count": 13,
     "metadata": {},
     "output_type": "execute_result"
    }
   ],
   "source": [
    "dataframe = {}\n",
    "for i in df.columns:\n",
    "    dataframe[i] = set(df[i])\n",
    "dataframe"
   ]
  },
  {
   "cell_type": "code",
   "execution_count": 14,
   "id": "af613afe",
   "metadata": {},
   "outputs": [
    {
     "name": "stdout",
     "output_type": "stream",
     "text": [
      "['$', '$', '$', '$', '$']\n",
      "['many', 'big', 'no', 'expensive', 'one']\n",
      "['many', 'big', 'no', 'expensive', 'one']\n",
      "['many', '?', 'no', 'expensive', '?']\n",
      "['many', '?', 'no', '?', '?']\n"
     ]
    }
   ],
   "source": [
    "h = [\"$\"]*len(dataframe)\n",
    "x = []\n",
    "# def \n",
    "for index,row in df.iterrows():\n",
    "    if row[-1]==\"yes\":\n",
    "        x = row\n",
    "        for val in range(1,len(row)):\n",
    "            if h[val]==\"$\":\n",
    "                h[val] = x[val]\n",
    "            elif h[val]!=x[val]:\n",
    "                h[val] = \"?\"\n",
    "    print(h[1:-1])\n",
    "#     if h[1]==\"many\":\n",
    "#         print(\"Book \")"
   ]
  }
 ],
 "metadata": {
  "kernelspec": {
   "display_name": "Python 3 (ipykernel)",
   "language": "python",
   "name": "python3"
  },
  "language_info": {
   "codemirror_mode": {
    "name": "ipython",
    "version": 3
   },
   "file_extension": ".py",
   "mimetype": "text/x-python",
   "name": "python",
   "nbconvert_exporter": "python",
   "pygments_lexer": "ipython3",
   "version": "3.7.6"
  }
 },
 "nbformat": 4,
 "nbformat_minor": 5
}
