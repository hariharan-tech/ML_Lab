{
 "cells": [
  {
   "cell_type": "code",
   "execution_count": 2,
   "id": "0a50c6f6",
   "metadata": {},
   "outputs": [],
   "source": [
    "import pandas as pd\n",
    "import matplotlib.pyplot as plt\n",
    "import KMeans\n",
    "colors = ['b','g','r','c','m','y']"
   ]
  },
  {
   "cell_type": "code",
   "execution_count": 3,
   "id": "0558be35",
   "metadata": {},
   "outputs": [],
   "source": [
    "df = pd.read_csv(\"kmeans_dataframe.csv\")"
   ]
  },
  {
   "cell_type": "code",
   "execution_count": 4,
   "id": "1fa33128",
   "metadata": {},
   "outputs": [
    {
     "name": "stdout",
     "output_type": "stream",
     "text": [
      "Available Distance types are: ['Euclidean', 'Manhattan', 'Minkowski', 'Supremum']\n"
     ]
    }
   ],
   "source": [
    "print(f\"Available Distance types are: {KMeans.KMeans.dist_types_built}\")"
   ]
  },
  {
   "cell_type": "code",
   "execution_count": 8,
   "id": "164107bf",
   "metadata": {},
   "outputs": [],
   "source": [
    "# Plotting scatter for each iteration\n",
    "def plot_scatter(ax,kmeans,new_cent):\n",
    "    global colors\n",
    "    points = kmeans.points\n",
    "    for i in range(len(points)):\n",
    "        if i in kmeans.cent_list:\n",
    "            pass\n",
    "        else:\n",
    "            ax.scatter(points[i].x,points[i].y,c=colors[new_cent[i]])\n",
    "    for i in range(len(kmeans.centroids)):\n",
    "        ax.scatter(kmeans.centroids[i].x,kmeans.centroids[i].y,c=\"k\",marker=\"*\")"
   ]
  },
  {
   "cell_type": "code",
   "execution_count": 23,
   "id": "31101931",
   "metadata": {},
   "outputs": [
    {
     "name": "stdout",
     "output_type": "stream",
     "text": [
      "Centroid points (wrt to dataset): [4, 10, 8]\n"
     ]
    }
   ],
   "source": [
    "# Creating an KMeans class instance\n",
    "kmeans = KMeans.KMeans(df,3,\"Euclidean\")\n",
    "curr_cent = kmeans.set_centroids(cent_list=[4,10,8])\n",
    "print(f\"Centroid points (wrt to dataset): {curr_cent}\")"
   ]
  },
  {
   "cell_type": "code",
   "execution_count": 24,
   "id": "4c73025c",
   "metadata": {},
   "outputs": [
    {
     "name": "stdout",
     "output_type": "stream",
     "text": [
      "[1, 0, 0, 0, 0, 0, 0, 2, 2, 2, 1, 0, 0, 1, 0, 1]\n",
      "[1, 0, 0, 0, 0, 0, 0, 2, 2, 2, 1, 0, 0, 0, 0, 1]\n",
      "[1, 0, 0, 0, 0, 0, 0, 2, 2, 2, 1, 0, 0, 0, 0, 1]\n"
     ]
    },
    {
     "data": {
      "image/png": "[encoded data removed]",
      "text/plain": [
       "<Figure size 432x288 with 1 Axes>"
      ]
     },
     "metadata": {
      "needs_background": "light"
     },
     "output_type": "display_data"
    },
    {
     "data": {
      "image/png": "[encoded data removed]",
      "text/plain": [
       "<Figure size 432x288 with 1 Axes>"
      ]
     },
     "metadata": {
      "needs_background": "light"
     },
     "output_type": "display_data"
    },
    {
     "data": {
      "image/png": "[encoded data removed]",
      "text/plain": [
       "<Figure size 432x288 with 1 Axes>"
      ]
     },
     "metadata": {
      "needs_background": "light"
     },
     "output_type": "display_data"
    }
   ],
   "source": [
    "#classification = kmeans.kmeans_iter()\n",
    "#print(classification)\n",
    "new_cent = curr_cent\n",
    "i = 0\n",
    "while True:\n",
    "    fig, ax = plt.subplots(1,1)\n",
    "    new_cent = kmeans._kmeans_cluster()[0]\n",
    "    print(list(new_cent))\n",
    "    plot_scatter(ax,kmeans,list(new_cent))\n",
    "    if new_cent == curr_cent:\n",
    "        break\n",
    "    plt.savefig(f\"{i}.png\",dpi=300)\n",
    "    curr_cent = new_cent\n",
    "    i+=1"
   ]
  },
  {
   "cell_type": "code",
   "execution_count": null,
   "id": "fb34ee7c",
   "metadata": {},
   "outputs": [],
   "source": []
  }
 ],
 "metadata": {
  "kernelspec": {
   "display_name": "Python 3 (ipykernel)",
   "language": "python",
   "name": "python3"
  },
  "language_info": {
   "codemirror_mode": {
    "name": "ipython",
    "version": 3
   },
   "file_extension": ".py",
   "mimetype": "text/x-python",
   "name": "python",
   "nbconvert_exporter": "python",
   "pygments_lexer": "ipython3",
   "version": "3.7.6"
  }
 },
 "nbformat": 4,
 "nbformat_minor": 5
}
